{
 "cells": [
  {
   "cell_type": "markdown",
   "metadata": {},
   "source": [
    "## Задача 2\n",
    "\n",
    "Яндекс.Еда осуществляет доставку еды из ресторанов. При этом у каждого ресторана есть зона, в рамках которой осуществляется доставка. \n",
    "\n",
    "Зона представляет собой полигон (заданы координаты его вершин). Пользователь в зависимости от своего местоположения (координат точки) видит разное количество доступных ресторанов. \n",
    "\n",
    "Нам важно, чтобы у каждого пользователя было достаточное количество ресторанов для выбора. Задача заключается в том, чтобы для каждого пользователя посчитать доступное ему количество ресторанов.\n",
    "\n",
    "Использовать Python (результат .py или .ipynb файл).\n",
    "\n",
    "Данные, которые есть (для простоты в формате .csv, несколько первых строк):   \n",
    "**user_coordinates.csv** (примерно 300 тыс. строк, user_id – идентификатор пользователя)  \n",
    "**place_zone_coordinates.csv** (примерно 500 тыс. строк,\n",
    "place_id – идентификатор ресторана, \n",
    "point_number – порядковый номер вершины полигона)\n",
    "\n",
    "Формат результата:\n",
    "\n",
    "id,number_of_places_available  \n",
    "1,2  \n",
    "2,19  \n",
    "3,0  "
   ]
  },
  {
   "cell_type": "markdown",
   "metadata": {},
   "source": [
    "### Решение"
   ]
  },
  {
   "cell_type": "code",
   "execution_count": 75,
   "metadata": {},
   "outputs": [],
   "source": [
    "import itertools\n",
    "import bisect\n",
    "\n",
    "user_coordinates = 'user_coordinates.csv'\n",
    "place_zone_coordinates = 'place_zone_coordinates.csv'"
   ]
  },
  {
   "cell_type": "code",
   "execution_count": 98,
   "metadata": {},
   "outputs": [
    {
     "name": "stdout",
     "output_type": "stream",
     "text": [
      "INFO: read user file with headings: user_id loc_lat loc_lon\n",
      "\n",
      "User:  1 (55.737564, 37.345186)\n",
      "User:  2 (56.234564, 37.23459)\n",
      "User:  3 (55.234578, 36.295745)\n"
     ]
    }
   ],
   "source": [
    "# Итератор для файла пользователями\n",
    "\n",
    "class UserIterator:\n",
    "    \"\"\"\n",
    "    Iterator class for iterate over users in csv file\n",
    "    \"\"\"\n",
    "    def __iter__(self):\n",
    "        return self\n",
    "\n",
    "    def __init__(self, filename):\n",
    "        # file headings: user_id,loc_lat,loc_lon\n",
    "        \n",
    "        self.filename = filename\n",
    "        self.file = open(filename)\n",
    "        self.headings = self.file.readline().split(',')\n",
    "        \n",
    "        print(\"INFO: read user file with headings:\", *self.headings)\n",
    "        # self.counter = 0\n",
    "\n",
    "    def __next__(self):\n",
    "        line = self.file.readline()\n",
    "        if not line:\n",
    "            raise StopIteration\n",
    "        line = list(map(float, line.split(\",\")))\n",
    "        return int(line[0]), tuple(line[1:])\n",
    "\n",
    "test_user_iterator = UserIterator(user_coordinates)\n",
    "\n",
    "for user_id, user_point in test_user_iterator:\n",
    "    print(\"User: \", user_id, user_point)"
   ]
  },
  {
   "cell_type": "code",
   "execution_count": 99,
   "metadata": {},
   "outputs": [
    {
     "name": "stdout",
     "output_type": "stream",
     "text": [
      "INFO: read file with headings: place_id loc_lat loc_lon point_number\n",
      "\n",
      "Polygon:  1 [(55.747022, 37.787073), (55.751713, 37.784328), (55.753878, 37.777638), (55.751031, 37.779351)]\n",
      "Polygon:  2 [(55.803885, 37.458311), (55.808677, 37.464054), (55.809763, 37.461314), (55.81084, 37.458654)]\n"
     ]
    }
   ],
   "source": [
    "# Итератор для файла с зонами доставки\n",
    "    \n",
    "class PolygonIterator:\n",
    "    \"\"\"\n",
    "    Iterator class for iterate over places in csv file\n",
    "    \"\"\"\n",
    "    \n",
    "    def __iter__(self):\n",
    "        return self\n",
    "\n",
    "    def __init__(self, filename):\n",
    "        \n",
    "        self.filename = filename\n",
    "        self.file = open(filename)\n",
    "        self.headings = self.file.readline().split(',')\n",
    "        \n",
    "        place_id, point = self.read_point()\n",
    "        self.current_place_id = place_id\n",
    "        self.current_point = point\n",
    "        \n",
    "        print(\"INFO: read file with headings:\", *self.headings)\n",
    "        self.counter = 0\n",
    "    \n",
    "    def read_point(self):\n",
    "        line = self.file.readline()\n",
    "        if not line:\n",
    "            return None, None\n",
    "        point = list(map(float, line.split(',')))\n",
    "        place_id = point[0]\n",
    "        point = tuple(point[1:3])\n",
    "        return int(place_id), point\n",
    "\n",
    "    def __next__(self):\n",
    "        \n",
    "        ## Init polygon points\n",
    "        if not self.current_place_id:\n",
    "            raise StopIteration\n",
    "            \n",
    "        place_id = self.current_place_id\n",
    "        points = list()\n",
    "        points.append(self.current_point)\n",
    "        \n",
    "        \n",
    "        while place_id == self.current_place_id:\n",
    "\n",
    "            place_id, point = self.read_point()\n",
    "            \n",
    "            if place_id != self.current_place_id:\n",
    "                continue\n",
    "            \n",
    "            points.append(point)\n",
    "        \n",
    "        else:\n",
    "            prev_place_id = self.current_place_id\n",
    "            self.current_place_id = place_id\n",
    "            self.current_point = point\n",
    "            return prev_place_id, points\n",
    "            \n",
    "test_polygon_iterator = PolygonIterator(place_zone_coordinates)\n",
    "\n",
    "for polygon_id, polygon_points in test_polygon_iterator:\n",
    "    print(\"Polygon: \", polygon_id, polygon_points)"
   ]
  },
  {
   "cell_type": "code",
   "execution_count": 100,
   "metadata": {},
   "outputs": [],
   "source": [
    "# Функция для проверки находится ли точка внутри полигона\n",
    "\n",
    "def is_in_delivery_area(point: list, poly: list) -> bool:\n",
    "    \"\"\"\n",
    "    Args:\n",
    "    point : list of int (x: latitude,  y: longitude)\n",
    "    polygon: list of polygon points\n",
    "    \n",
    "    Returns:\n",
    "        1 if the point is in the path\n",
    "        0 if the point isn't in the path\n",
    "    \"\"\"\n",
    "    x = point[0]\n",
    "    y = point[1]\n",
    "    num = len(poly)\n",
    "    i = 0\n",
    "    j = num - 1\n",
    "    c = False\n",
    "    for i in range(num):\n",
    "        if ((poly[i][1] > y) != (poly[j][1] > y)) and \\\n",
    "                (x < poly[i][0] + (poly[j][0] - poly[i][0]) * (y - poly[i][1]) /\n",
    "                                  (poly[j][1] - poly[i][1])):\n",
    "            c = not c\n",
    "        j = i\n",
    "    return int(c)"
   ]
  },
  {
   "cell_type": "code",
   "execution_count": 102,
   "metadata": {},
   "outputs": [
    {
     "name": "stdout",
     "output_type": "stream",
     "text": [
      "INFO: read file with headings: place_id loc_lat loc_lon point_number\n",
      "\n",
      "INFO: read user file with headings: user_id loc_lat loc_lon\n",
      "\n",
      "Polygon:  1 [(55.747022, 37.787073), (55.751713, 37.784328), (55.753878, 37.777638), (55.751031, 37.779351)]\n",
      "User:  1 (55.737564, 37.345186)\n",
      "User:  2 (56.234564, 37.23459)\n"
     ]
    },
    {
     "ename": "IndexError",
     "evalue": "list index out of range",
     "output_type": "error",
     "traceback": [
      "\u001b[0;31m---------------------------------------------------------------------------\u001b[0m",
      "\u001b[0;31mIndexError\u001b[0m                                Traceback (most recent call last)",
      "\u001b[0;32m<ipython-input-102-6a61f1362c11>\u001b[0m in \u001b[0;36m<module>\u001b[0;34m\u001b[0m\n\u001b[1;32m     18\u001b[0m             \u001b[0mresults\u001b[0m\u001b[0;34m.\u001b[0m\u001b[0mappend\u001b[0m\u001b[0;34m(\u001b[0m\u001b[0mresult\u001b[0m\u001b[0;34m)\u001b[0m\u001b[0;34m\u001b[0m\u001b[0;34m\u001b[0m\u001b[0m\n\u001b[1;32m     19\u001b[0m         \u001b[0;32melse\u001b[0m\u001b[0;34m:\u001b[0m\u001b[0;34m\u001b[0m\u001b[0;34m\u001b[0m\u001b[0m\n\u001b[0;32m---> 20\u001b[0;31m             \u001b[0mresults\u001b[0m\u001b[0;34m[\u001b[0m\u001b[0muser_id\u001b[0m\u001b[0;34m]\u001b[0m \u001b[0;34m+=\u001b[0m \u001b[0mresult\u001b[0m\u001b[0;34m\u001b[0m\u001b[0;34m\u001b[0m\u001b[0m\n\u001b[0m\u001b[1;32m     21\u001b[0m \u001b[0;34m\u001b[0m\u001b[0m\n",
      "\u001b[0;31mIndexError\u001b[0m: list index out of range"
     ]
    }
   ],
   "source": [
    "# Реализация алгоритма со сложностью О(MNK) \n",
    "# M - количество пользователей, \n",
    "# N - количество ресторанов, \n",
    "# K - количество точек полигона\n",
    "\n",
    "import csv \n",
    "\n",
    "results = list([0, 0])\n",
    "iter_place_zone = PolygonIterator('place_zone_coordinates.csv')\n",
    "\n",
    "for place_id, place_points in iter_place_zone:\n",
    "    iter_users = UserIterator('user_coordinates.csv')\n",
    "    \n",
    "    print(\"Polygon: \", place_id, place_points)\n",
    "    for user_id, user_point in iter_users:\n",
    "        print(\"User: \", user_id, user_point)\n",
    "        result = is_in_delivery_area(user_point, place_points)\n",
    "        if len(results) < user_id:\n",
    "            results.append(result)\n",
    "        else:\n",
    "            results[user_id] += result\n",
    "    "
   ]
  },
  {
   "cell_type": "code",
   "execution_count": null,
   "metadata": {},
   "outputs": [],
   "source": [
    "# Write results to file\n",
    "        \n",
    "        \n",
    "with open(\"result.csv\", 'w', newline='') as myfile:\n",
    "     wr = csv.writer(myfile, quoting=csv.QUOTE_ALL)\n",
    "     wr.writerow(mylist)\n",
    "        \n",
    "        "
   ]
  }
 ],
 "metadata": {
  "kernelspec": {
   "display_name": "Python 3",
   "language": "python",
   "name": "python3"
  },
  "language_info": {
   "codemirror_mode": {
    "name": "ipython",
    "version": 3
   },
   "file_extension": ".py",
   "mimetype": "text/x-python",
   "name": "python",
   "nbconvert_exporter": "python",
   "pygments_lexer": "ipython3",
   "version": "3.7.4"
  }
 },
 "nbformat": 4,
 "nbformat_minor": 4
}
