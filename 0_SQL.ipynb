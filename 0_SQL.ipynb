{
 "cells": [
  {
   "cell_type": "code",
   "execution_count": 1,
   "metadata": {},
   "outputs": [],
   "source": [
    "import numpy as np\n",
    "import pandas as pd\n",
    "\n",
    "import sqlite3\n",
    "\n",
    "connection = sqlite3.connect('yandex_test.db')\n",
    "c = connection.cursor()"
   ]
  },
  {
   "cell_type": "code",
   "execution_count": 4,
   "metadata": {},
   "outputs": [],
   "source": []
  },
  {
   "cell_type": "code",
   "execution_count": 19,
   "metadata": {},
   "outputs": [],
   "source": [
    "# Add Data to Database\n",
    "\n",
    "pd.DataFrame([(i, i+2) for i in range(100)], \n",
    "             columns=[\"id\", \"promocode_id\"]).to_sql(\"orders\", con=connection, if_exists=\"replace\")\n",
    "pd.DataFrame([(i, i, i) for i in range(30)],\n",
    "             columns=[\"id\", \"name\", \"discount\"]).to_sql(\"promocodes\", con=connection, if_exists=\"replace\")\n",
    "c.execute(\"UPDATE orders SET promocode_id = NULL WHERE promocode_id>30;\")\n",
    "connection.commit()"
   ]
  },
  {
   "cell_type": "code",
   "execution_count": null,
   "metadata": {},
   "outputs": [],
   "source": []
  },
  {
   "cell_type": "code",
   "execution_count": 82,
   "metadata": {},
   "outputs": [
    {
     "data": {
      "text/html": [
       "<div>\n",
       "<style scoped>\n",
       "    .dataframe tbody tr th:only-of-type {\n",
       "        vertical-align: middle;\n",
       "    }\n",
       "\n",
       "    .dataframe tbody tr th {\n",
       "        vertical-align: top;\n",
       "    }\n",
       "\n",
       "    .dataframe thead th {\n",
       "        text-align: right;\n",
       "    }\n",
       "</style>\n",
       "<table border=\"1\" class=\"dataframe\">\n",
       "  <thead>\n",
       "    <tr style=\"text-align: right;\">\n",
       "      <th></th>\n",
       "      <th>promocode_orders_percent</th>\n",
       "    </tr>\n",
       "  </thead>\n",
       "  <tbody>\n",
       "    <tr>\n",
       "      <td>0</td>\n",
       "      <td>0.29</td>\n",
       "    </tr>\n",
       "  </tbody>\n",
       "</table>\n",
       "</div>"
      ],
      "text/plain": [
       "   promocode_orders_percent\n",
       "0                      0.29"
      ]
     },
     "execution_count": 82,
     "metadata": {},
     "output_type": "execute_result"
    }
   ],
   "source": [
    "# Какова доля заказов с промокодами?\n",
    "\n",
    "pd.read_sql(\"\"\"\n",
    "SELECT cast(SUM(case when promocode_id IS NULL then 0 else 1 end) as float)\n",
    "            /cast(COUNT(1) as float) as promocode_orders_percent\n",
    "    FROM orders\n",
    "\n",
    "\"\"\"\n",
    ", con=connection)"
   ]
  },
  {
   "cell_type": "code",
   "execution_count": null,
   "metadata": {},
   "outputs": [],
   "source": []
  },
  {
   "cell_type": "code",
   "execution_count": 83,
   "metadata": {},
   "outputs": [
    {
     "data": {
      "text/html": [
       "<div>\n",
       "<style scoped>\n",
       "    .dataframe tbody tr th:only-of-type {\n",
       "        vertical-align: middle;\n",
       "    }\n",
       "\n",
       "    .dataframe tbody tr th {\n",
       "        vertical-align: top;\n",
       "    }\n",
       "\n",
       "    .dataframe thead th {\n",
       "        text-align: right;\n",
       "    }\n",
       "</style>\n",
       "<table border=\"1\" class=\"dataframe\">\n",
       "  <thead>\n",
       "    <tr style=\"text-align: right;\">\n",
       "      <th></th>\n",
       "      <th>promocode_name</th>\n",
       "      <th>promocode_full_sum</th>\n",
       "    </tr>\n",
       "  </thead>\n",
       "  <tbody>\n",
       "    <tr>\n",
       "      <td>0</td>\n",
       "      <td>29</td>\n",
       "      <td>29</td>\n",
       "    </tr>\n",
       "  </tbody>\n",
       "</table>\n",
       "</div>"
      ],
      "text/plain": [
       "   promocode_name  promocode_full_sum\n",
       "0              29                  29"
      ]
     },
     "execution_count": 83,
     "metadata": {},
     "output_type": "execute_result"
    }
   ],
   "source": [
    "# Какой самый популярный промокод (название) и какая сумма общих затрат по нему? \n",
    "# Самый популярный промокод – это промокод, по которому получились наибольшие затраты в деньгах.\n",
    "\n",
    "pd.read_sql( \"\"\"\n",
    "SELECT promocodes.name as promocode_name, \n",
    "        SUM(promocodes.discount)  as promocode_full_sum\n",
    "FROM orders LEFT JOIN promocodes\n",
    "        ON orders.promocode_id = promocodes.id\n",
    "        GROUP BY promocodes.name\n",
    "        ORDER BY 2 DESC\n",
    "        LIMIT 1\n",
    "\"\"\"\n",
    ", con=connection)"
   ]
  },
  {
   "cell_type": "code",
   "execution_count": null,
   "metadata": {},
   "outputs": [],
   "source": []
  }
 ],
 "metadata": {
  "kernelspec": {
   "display_name": "Python 3",
   "language": "python",
   "name": "python3"
  },
  "language_info": {
   "codemirror_mode": {
    "name": "ipython",
    "version": 3
   },
   "file_extension": ".py",
   "mimetype": "text/x-python",
   "name": "python",
   "nbconvert_exporter": "python",
   "pygments_lexer": "ipython3",
   "version": "3.7.4"
  }
 },
 "nbformat": 4,
 "nbformat_minor": 4
}
